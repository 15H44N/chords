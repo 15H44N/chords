{
 "cells": [
  {
   "cell_type": "code",
   "execution_count": 1,
   "metadata": {},
   "outputs": [],
   "source": [
    "import requests\n",
    "from bs4 import BeautifulSoup\n",
    "import json"
   ]
  },
  {
   "cell_type": "code",
   "execution_count": 30,
   "metadata": {},
   "outputs": [],
   "source": [
    "from typing import Any, Dict, Tuple\n",
    "\n",
    "# TODO imrpove parsing logic to handle errors\n",
    "def get_wiki_tabs(url) -> Tuple[str, Dict[str, Any]]:\n",
    "    session = requests.Session()\n",
    "    headers = {\n",
    "        \"User-Agent\": \"Mozilla/5.0 (Windows NT 10.0; Win64; x64) AppleWebKit/537.36 (KHTML, like Gecko) Chrome/89.0.4389.128 Safari/537.36\"\n",
    "    }\n",
    "    response = session.get(url, headers=headers)\n",
    "    print(response.status_code)\n",
    "\n",
    "    soup = BeautifulSoup(response.text, 'html.parser')\n",
    "    js_store = soup.find(\"div\", {\"class\": \"js-store\"})\n",
    "    json_content = js_store.attrs.get(\"data-content\")\n",
    "    page_content = json.loads(json_content)\n",
    "\n",
    "    page_data = page_content[\"store\"][\"page\"][\"data\"] \n",
    "    tab_meta = page_data[\"tab\"]\n",
    "    tab_view = page_data[\"tab_view\"]\n",
    "\n",
    "    return tab_view['wiki_tab']['content'], tab_meta\n"
   ]
  },
  {
   "cell_type": "code",
   "execution_count": 24,
   "metadata": {},
   "outputs": [
    {
     "name": "stdout",
     "output_type": "stream",
     "text": [
      "200\n"
     ]
    }
   ],
   "source": [
    "url = \"https://tabs.ultimate-guitar.com/tab/the-fray/heartbeat-chords-1158352\"\n",
    "\n",
    "tabs, metadata = get_wiki_tabs(url)"
   ]
  },
  {
   "cell_type": "code",
   "execution_count": 25,
   "metadata": {},
   "outputs": [
    {
     "data": {
      "text/plain": [
       "('Heartbeat', 'The Fray')"
      ]
     },
     "execution_count": 25,
     "metadata": {},
     "output_type": "execute_result"
    }
   ],
   "source": [
    "metadata[\"song_name\"], metadata[\"artist_name\"]"
   ]
  },
  {
   "cell_type": "code",
   "execution_count": 26,
   "metadata": {},
   "outputs": [],
   "source": [
    "from dataclasses import dataclass, field\n",
    "from typing import List\n",
    "\n",
    "from music import Chord\n",
    "\n",
    "@dataclass\n",
    "class TabLine:\n",
    "    chords: List[Chord] = field(default_factory=list)\n",
    "    lyrics: str = \"\""
   ]
  },
  {
   "cell_type": "code",
   "execution_count": 27,
   "metadata": {},
   "outputs": [],
   "source": [
    "import re\n",
    "\n",
    "def parse_tab_text(tab_text: str) -> List[TabLine]:\n",
    "    tabs = []\n",
    "    # Regex to match the entire block between [tab] and [/tab], as well as chords within\n",
    "    tab_pattern = re.compile(r\"\\[tab\\](.*?)\\[/tab\\]\", re.DOTALL)\n",
    "    chord_pattern = re.compile(r\"\\[ch\\](.*?)\\[/ch\\]\")\n",
    "\n",
    "    # Find all tab blocks\n",
    "    matches = tab_pattern.findall(tab_text)\n",
    "\n",
    "    for match in matches:\n",
    "        chords = [Chord(chord.strip()) for chord in chord_pattern.findall(match)]  # fmt: skip\n",
    "        lyrics = chord_pattern.sub(\"\", match).strip()\n",
    "\n",
    "        # Append the tab line with extracted chords and lyrics\n",
    "        tabs.append(TabLine(chords=chords, lyrics=lyrics))\n",
    "\n",
    "    return tabs"
   ]
  },
  {
   "cell_type": "code",
   "execution_count": 28,
   "metadata": {},
   "outputs": [],
   "source": [
    "parsed_tabs = parse_tab_text(tabs)"
   ]
  },
  {
   "cell_type": "markdown",
   "metadata": {},
   "source": [
    "### Music Theory"
   ]
  },
  {
   "cell_type": "code",
   "execution_count": 31,
   "metadata": {},
   "outputs": [
    {
     "name": "stdout",
     "output_type": "stream",
     "text": [
      "Output written to /Users/ishaan/Workspace/chords/output/Heartbeat.txt\n"
     ]
    }
   ],
   "source": [
    "from pathlib import Path\n",
    "\n",
    "\n",
    "def sanitize_song_name(song_name: str) -> str:\n",
    "    return (\n",
    "        song_name.replace(\" \", \"_\")\n",
    "        .replace(\"-\", \"_\")\n",
    "        .replace(\"'\", \"\")\n",
    "        .replace('\"', \"\")\n",
    "        .strip()\n",
    "    )\n",
    "\n",
    "\n",
    "song_name = sanitize_song_name(metadata[\"song_name\"])\n",
    "\n",
    "output_file = Path(\"/Users/ishaan/Workspace/chords/output\") / Path(\n",
    "    song_name\n",
    ").with_suffix(\".txt\")\n",
    "\n",
    "output_lines = []\n",
    "\n",
    "TRANSPOSE_SEMITONES = +0\n",
    "for tab in parsed_tabs:\n",
    "    transposed_chords = [chord.transpose(TRANSPOSE_SEMITONES) for chord in tab.chords]\n",
    "    transposed_chord_names = [chord.name for chord in transposed_chords]\n",
    "    # print(f\"Chords: {transposed_chord_names}, Lyrics: '{tab.lyrics}'\")\n",
    "    # print(transposed_chord_names)\n",
    "    # print(tab.lyrics)\n",
    "\n",
    "    output_lines.append(str(transposed_chord_names))\n",
    "    output_lines.append(tab.lyrics)\n",
    "\n",
    "with open(output_file, \"w\") as f:\n",
    "    f.write(\"\\n\".join(output_lines))\n",
    "    print(f\"Output written to {output_file}\")"
   ]
  },
  {
   "cell_type": "code",
   "execution_count": null,
   "metadata": {},
   "outputs": [],
   "source": []
  }
 ],
 "metadata": {
  "kernelspec": {
   "display_name": "venv",
   "language": "python",
   "name": "python3"
  },
  "language_info": {
   "codemirror_mode": {
    "name": "ipython",
    "version": 3
   },
   "file_extension": ".py",
   "mimetype": "text/x-python",
   "name": "python",
   "nbconvert_exporter": "python",
   "pygments_lexer": "ipython3",
   "version": "3.12.4"
  }
 },
 "nbformat": 4,
 "nbformat_minor": 2
}
