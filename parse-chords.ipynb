{
 "cells": [
  {
   "cell_type": "code",
   "execution_count": 15,
   "metadata": {},
   "outputs": [],
   "source": [
    "import requests\n",
    "from bs4 import BeautifulSoup\n",
    "import json"
   ]
  },
  {
   "cell_type": "code",
   "execution_count": 16,
   "metadata": {},
   "outputs": [],
   "source": [
    "from typing import Any, Dict, Tuple\n",
    "\n",
    "# TODO imrpove parsing logic to handle errors\n",
    "def get_wiki_tabs(url) -> Tuple[str, Dict[str, Any]]:\n",
    "    session = requests.Session()\n",
    "    headers = {\n",
    "        \"User-Agent\": \"Mozilla/5.0 (Windows NT 10.0; Win64; x64) AppleWebKit/537.36 (KHTML, like Gecko) Chrome/89.0.4389.128 Safari/537.36\"\n",
    "    }\n",
    "    response = session.get(url, headers=headers)\n",
    "    print(response.status_code)\n",
    "\n",
    "    soup = BeautifulSoup(response.text, 'html.parser')\n",
    "    js_store = soup.find(\"div\", {\"class\": \"js-store\"})\n",
    "    json_content = js_store.attrs.get(\"data-content\")\n",
    "    page_content = json.loads(json_content)\n",
    "\n",
    "    page_data = page_content[\"store\"][\"page\"][\"data\"] \n",
    "    tab_meta = page_data[\"tab\"]\n",
    "    tab_view = page_data[\"tab_view\"]\n",
    "\n",
    "    return tab_view['wiki_tab']['content'], tab_meta\n"
   ]
  },
  {
   "cell_type": "code",
   "execution_count": 19,
   "metadata": {},
   "outputs": [
    {
     "name": "stdout",
     "output_type": "stream",
     "text": [
      "200\n"
     ]
    }
   ],
   "source": [
    "# url = \"https://tabs.ultimate-guitar.com/tab/bayaan/sapna-chords-5164177\"\n",
    "url = \"https://tabs.ultimate-guitar.com/tab/bayaan/nahin-milta-chords-2648838\"\n",
    "tabs, metadata = get_wiki_tabs(url)"
   ]
  },
  {
   "cell_type": "code",
   "execution_count": 25,
   "metadata": {},
   "outputs": [
    {
     "data": {
      "text/plain": [
       "('Nahin Milta', 'Bayaan')"
      ]
     },
     "execution_count": 25,
     "metadata": {},
     "output_type": "execute_result"
    }
   ],
   "source": [
    "metadata[\"song_name\"], metadata[\"artist_name\"]"
   ]
  },
  {
   "cell_type": "code",
   "execution_count": 26,
   "metadata": {},
   "outputs": [],
   "source": [
    "from dataclasses import dataclass, field\n",
    "from typing import List\n",
    "\n",
    "from music import Chord\n",
    "\n",
    "@dataclass\n",
    "class TabLine:\n",
    "    chords: List[Chord] = field(default_factory=list)\n",
    "    lyrics: str = \"\""
   ]
  },
  {
   "cell_type": "code",
   "execution_count": 27,
   "metadata": {},
   "outputs": [],
   "source": [
    "import re\n",
    "\n",
    "def parse_tab_text(tab_text: str) -> List[TabLine]:\n",
    "    tabs = []\n",
    "    # Regex to match the entire block between [tab] and [/tab], as well as chords within\n",
    "    tab_pattern = re.compile(r\"\\[tab\\](.*?)\\[/tab\\]\", re.DOTALL)\n",
    "    chord_pattern = re.compile(r\"\\[ch\\](.*?)\\[/ch\\]\")\n",
    "\n",
    "    # Find all tab blocks\n",
    "    matches = tab_pattern.findall(tab_text)\n",
    "\n",
    "    for match in matches:\n",
    "        chords = [Chord(chord.strip()) for chord in chord_pattern.findall(match)]  # fmt: skip\n",
    "        lyrics = chord_pattern.sub(\"\", match).strip()\n",
    "\n",
    "        # Append the tab line with extracted chords and lyrics\n",
    "        tabs.append(TabLine(chords=chords, lyrics=lyrics))\n",
    "\n",
    "    return tabs"
   ]
  },
  {
   "cell_type": "code",
   "execution_count": 28,
   "metadata": {},
   "outputs": [],
   "source": [
    "parsed_tabs = parse_tab_text(tabs)"
   ]
  },
  {
   "cell_type": "markdown",
   "metadata": {},
   "source": [
    "### Music Theory"
   ]
  },
  {
   "cell_type": "code",
   "execution_count": 31,
   "metadata": {},
   "outputs": [
    {
     "name": "stdout",
     "output_type": "stream",
     "text": [
      "['Badd9', 'F#']\n",
      "e|----------0----0----0--0-3-----------0----0----0--0-3-|\n",
      "B|------------3----3----3---3------------3----3----3---3|\n",
      "G|--0-----0-----0----0---------------0-----0----0-------|\n",
      "D|--2---2----------------------0---0--------------------|\n",
      "A|--3--------------------------2------------------------|\n",
      "E|-----------------------------3------------------------| x2\n",
      "['Badd9', 'F#']\n",
      "Sehlaa dou munn ko\n",
      "['Badd9', 'F#']\n",
      "Kyun ye rota rahe\n",
      "['Badd9', 'F#']\n",
      "Dhalle gi phir ye raat\n",
      "['Badd9', 'F#']\n",
      "Jo hota rahe\n",
      "['D#m', 'A#m', 'Badd9']\n",
      "Par ye mann maayoos hai bohat\n",
      "['F#', 'C#']\n",
      "Hungaame mein girift\n",
      "['D#m']\n",
      "Iss shor mein\n",
      "['A#m']\n",
      "Iss bheer mein\n",
      "['Badd9']\n",
      "Akela hai munn\n",
      "['F#', 'C#']\n",
      "Akela hoon main\n",
      "['G#m', 'E', 'B']\n",
      "Haan akela hai mann par mukammal hai ye adhoore ho tum\n",
      "['G#m', 'E', 'B']\n",
      "Haan akela hai mann par mukammal hai ye adhoore ho tum\n",
      "['G#m', 'E', 'B']\n",
      "Haan akela hai mann par mukammal hai ye adhoore ho tum\n",
      "['G#m', 'E', 'B']\n",
      "Haan akela hai mann par mukammal hai ye adhoore ho tum\n",
      "['C#']\n",
      "Balke ho hee nahin\n",
      "['D#m', 'A#m']\n",
      "Jhoot ki zameen par, fareb ke yeh saare ghar\n",
      "['B', 'A#']\n",
      "Inmein rehne waale tum, khoon safaid dil pathar\n",
      "['D#m', 'A#m']\n",
      "Zimma hai ye qudrat ka, ya khata tumhaari hai\n",
      "['B', 'A#']\n",
      "Jo bhi hai sabab so hai, par sazaa humaari hai\n",
      "['D#m', 'C#']\n",
      "Jisko jo bhi milta hai\n",
      "['B', 'A#m']\n",
      "Besabab nahin milta\n",
      "['D#m', 'C#']\n",
      "Mujhse bole munn mera\n",
      "['B', 'A#m']\n",
      "Sab ko sab nahin milta\n",
      "['D#m', 'C#']\n",
      "Jisko jo bhi milta hai\n",
      "['B', 'A#m']\n",
      "Besabab nahin milta\n",
      "['D#m', 'C#']\n",
      "Mujhse bole munn mera\n",
      "['B', 'A#m']\n",
      "Sab ko sab nahin milta\n",
      "['D#m', 'C#']\n",
      "Jisko jo bhi milta hai\n",
      "['B', 'A#m']\n",
      "Besabab nahin milta\n",
      "['D#m', 'C#']\n",
      "Mujhse bole munn mera\n",
      "['B']\n",
      "Sab ko sab\n",
      "['D#m']\n",
      "Nahin milta\n"
     ]
    }
   ],
   "source": [
    "TRANSPOSE_SEMITONES = -1\n",
    "for tab in parsed_tabs:\n",
    "    transposed_chords = [chord.transpose(TRANSPOSE_SEMITONES) for chord in tab.chords]\n",
    "    transposed_chord_names = [chord.name for chord in transposed_chords]\n",
    "    # print(f\"Chords: {transposed_chord_names}, Lyrics: '{tab.lyrics}'\")\n",
    "    print(transposed_chord_names)\n",
    "    print(tab.lyrics)"
   ]
  },
  {
   "cell_type": "code",
   "execution_count": null,
   "metadata": {},
   "outputs": [],
   "source": []
  }
 ],
 "metadata": {
  "kernelspec": {
   "display_name": "venv",
   "language": "python",
   "name": "python3"
  },
  "language_info": {
   "codemirror_mode": {
    "name": "ipython",
    "version": 3
   },
   "file_extension": ".py",
   "mimetype": "text/x-python",
   "name": "python",
   "nbconvert_exporter": "python",
   "pygments_lexer": "ipython3",
   "version": "3.12.4"
  }
 },
 "nbformat": 4,
 "nbformat_minor": 2
}
