{
 "cells": [
  {
   "cell_type": "code",
   "execution_count": null,
   "metadata": {},
   "outputs": [],
   "source": [
    "alphabet = ['A', 'B', 'C', 'D', 'E', 'F', 'G']"
   ]
  },
  {
   "cell_type": "code",
   "execution_count": null,
   "metadata": {},
   "outputs": [],
   "source": [
    "# notes with at most 2 accidentals\n",
    "notes = [\n",
    "    ['B#',  'C',  'Dbb'],\n",
    "    ['B##', 'C#', 'Db'],\n",
    "    ['C##', 'D',  'Ebb'],\n",
    "    ['D#',  'Eb', 'Fbb'],\n",
    "    ['D##', 'E',  'Fb'],\n",
    "    ['E#',  'F',  'Gbb'],\n",
    "    ['E##', 'F#', 'Gb'],\n",
    "    ['F##', 'G',  'Abb'],\n",
    "    ['G#',  'Ab'],\n",
    "    ['G##', 'A',  'Bbb'],\n",
    "    ['A#',  'Bb', 'Cbb'],\n",
    "    ['A##', 'B',  'Cb'],\n",
    "]"
   ]
  },
  {
   "cell_type": "code",
   "execution_count": null,
   "metadata": {},
   "outputs": [],
   "source": [
    "def find_note_index(scale, search_note):\n",
    "    \"\"\"Given a scale, find the index of a particular note\"\"\"\n",
    "    for index, note in enumerate(scale):\n",
    "        # Deal with situations where we have a list of enharmonic\n",
    "        # equivalents, as well as just a single note as and str.\n",
    "        if type(note) == list:\n",
    "            if search_note in note:\n",
    "                return index\n",
    "        \n",
    "        elif type(note) == str:\n",
    "            if search_note == note:\n",
    "                return index"
   ]
  },
  {
   "cell_type": "code",
   "execution_count": null,
   "metadata": {},
   "outputs": [
    {
     "data": {
      "text/plain": [
       "9"
      ]
     },
     "metadata": {},
     "output_type": "display_data"
    }
   ],
   "source": [
    "find_note_index(notes, 'A')"
   ]
  },
  {
   "cell_type": "code",
   "execution_count": null,
   "metadata": {},
   "outputs": [
    {
     "data": {
      "text/plain": [
       "0"
      ]
     },
     "metadata": {},
     "output_type": "display_data"
    }
   ],
   "source": [
    "find_note_index(alphabet, 'A')"
   ]
  },
  {
   "cell_type": "code",
   "execution_count": null,
   "metadata": {},
   "outputs": [],
   "source": [
    "def rotate(scale, n):\n",
    "    ''' Left-rotate a scale by n positions. '''\n",
    "    return scale[n:] + scale[:n]"
   ]
  },
  {
   "cell_type": "code",
   "execution_count": null,
   "metadata": {},
   "outputs": [
    {
     "data": {
      "text/plain": [
       "['D', 'E', 'F', 'G', 'A', 'B', 'C']"
      ]
     },
     "metadata": {},
     "output_type": "display_data"
    }
   ],
   "source": [
    "rotate(alphabet, 3)"
   ]
  },
  {
   "cell_type": "code",
   "execution_count": null,
   "metadata": {},
   "outputs": [],
   "source": [
    "intervals = [\n",
    "    ['P1', 'd2'],  # Perfect unison   Diminished second\n",
    "    ['m2', 'A1'],  # Minor second     Augmented unison\n",
    "    ['M2', 'd3'],  # Major second     Diminished third\n",
    "    ['m3', 'A2'],  # Minor third      Augmented second\n",
    "    ['M3', 'd4'],  # Major third      Diminished fourth\n",
    "    ['P4', 'A3'],  # Perfect fourth   Augmented third\n",
    "    ['d5', 'A4'],  # Diminished fifth Augmented fourth\n",
    "    ['P5', 'd6'],  # Perfect fifth    Diminished sixth\n",
    "    ['m6', 'A5'],  # Minor sixth      Augmented fifth\n",
    "    ['M6', 'd7'],  # Major sixth      Diminished seventh\n",
    "    ['m7', 'A6'],  # Minor seventh    Augmented sixth\n",
    "    ['M7', 'd8'],  # Major seventh    Diminished octave\n",
    "    ['P8', 'A7'],  # Perfect octave   Augmented seventh\n",
    "]"
   ]
  }
 ],
 "metadata": {
  "language_info": {
   "name": "python"
  }
 },
 "nbformat": 4,
 "nbformat_minor": 2
}
